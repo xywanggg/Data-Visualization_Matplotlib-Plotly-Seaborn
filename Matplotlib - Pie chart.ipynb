{
 "cells": [
  {
   "cell_type": "markdown",
   "metadata": {},
   "source": [
    "# Pie chart"
   ]
  },
  {
   "cell_type": "code",
   "execution_count": 2,
   "metadata": {},
   "outputs": [],
   "source": [
    "import matplotlib\n",
    "import matplotlib.pyplot as plt\n",
    "import pandas as pd"
   ]
  },
  {
   "cell_type": "code",
   "execution_count": 3,
   "metadata": {},
   "outputs": [
    {
     "data": {
      "text/html": [
       "<div>\n",
       "<style scoped>\n",
       "    .dataframe tbody tr th:only-of-type {\n",
       "        vertical-align: middle;\n",
       "    }\n",
       "\n",
       "    .dataframe tbody tr th {\n",
       "        vertical-align: top;\n",
       "    }\n",
       "\n",
       "    .dataframe thead th {\n",
       "        text-align: right;\n",
       "    }\n",
       "</style>\n",
       "<table border=\"1\" class=\"dataframe\">\n",
       "  <thead>\n",
       "    <tr style=\"text-align: right;\">\n",
       "      <th></th>\n",
       "      <th>longitude</th>\n",
       "      <th>latitude</th>\n",
       "      <th>housing_median_age</th>\n",
       "      <th>total_rooms</th>\n",
       "      <th>total_bedrooms</th>\n",
       "      <th>population</th>\n",
       "      <th>households</th>\n",
       "      <th>median_income</th>\n",
       "      <th>median_house_value</th>\n",
       "      <th>ocean_proximity</th>\n",
       "    </tr>\n",
       "  </thead>\n",
       "  <tbody>\n",
       "    <tr>\n",
       "      <th>1852</th>\n",
       "      <td>-124.23</td>\n",
       "      <td>41.75</td>\n",
       "      <td>11.0</td>\n",
       "      <td>3159.0</td>\n",
       "      <td>616.0</td>\n",
       "      <td>1343.0</td>\n",
       "      <td>479.0</td>\n",
       "      <td>2.4805</td>\n",
       "      <td>73200.0</td>\n",
       "      <td>NEAR OCEAN</td>\n",
       "    </tr>\n",
       "    <tr>\n",
       "      <th>3481</th>\n",
       "      <td>-118.52</td>\n",
       "      <td>34.30</td>\n",
       "      <td>17.0</td>\n",
       "      <td>4542.0</td>\n",
       "      <td>621.0</td>\n",
       "      <td>2144.0</td>\n",
       "      <td>597.0</td>\n",
       "      <td>8.8467</td>\n",
       "      <td>450700.0</td>\n",
       "      <td>&lt;1H OCEAN</td>\n",
       "    </tr>\n",
       "    <tr>\n",
       "      <th>17919</th>\n",
       "      <td>-121.99</td>\n",
       "      <td>37.35</td>\n",
       "      <td>18.0</td>\n",
       "      <td>1712.0</td>\n",
       "      <td>509.0</td>\n",
       "      <td>972.0</td>\n",
       "      <td>467.0</td>\n",
       "      <td>4.3971</td>\n",
       "      <td>238900.0</td>\n",
       "      <td>&lt;1H OCEAN</td>\n",
       "    </tr>\n",
       "    <tr>\n",
       "      <th>11829</th>\n",
       "      <td>-120.87</td>\n",
       "      <td>39.18</td>\n",
       "      <td>25.0</td>\n",
       "      <td>2691.0</td>\n",
       "      <td>598.0</td>\n",
       "      <td>964.0</td>\n",
       "      <td>373.0</td>\n",
       "      <td>3.9196</td>\n",
       "      <td>142700.0</td>\n",
       "      <td>INLAND</td>\n",
       "    </tr>\n",
       "    <tr>\n",
       "      <th>4128</th>\n",
       "      <td>-118.20</td>\n",
       "      <td>34.14</td>\n",
       "      <td>51.0</td>\n",
       "      <td>1941.0</td>\n",
       "      <td>378.0</td>\n",
       "      <td>1012.0</td>\n",
       "      <td>371.0</td>\n",
       "      <td>3.9375</td>\n",
       "      <td>217000.0</td>\n",
       "      <td>&lt;1H OCEAN</td>\n",
       "    </tr>\n",
       "    <tr>\n",
       "      <th>19931</th>\n",
       "      <td>-119.33</td>\n",
       "      <td>36.31</td>\n",
       "      <td>15.0</td>\n",
       "      <td>1472.0</td>\n",
       "      <td>228.0</td>\n",
       "      <td>892.0</td>\n",
       "      <td>257.0</td>\n",
       "      <td>5.3909</td>\n",
       "      <td>113000.0</td>\n",
       "      <td>INLAND</td>\n",
       "    </tr>\n",
       "    <tr>\n",
       "      <th>4831</th>\n",
       "      <td>-118.31</td>\n",
       "      <td>34.04</td>\n",
       "      <td>37.0</td>\n",
       "      <td>2338.0</td>\n",
       "      <td>686.0</td>\n",
       "      <td>2376.0</td>\n",
       "      <td>630.0</td>\n",
       "      <td>1.7670</td>\n",
       "      <td>170300.0</td>\n",
       "      <td>&lt;1H OCEAN</td>\n",
       "    </tr>\n",
       "    <tr>\n",
       "      <th>13986</th>\n",
       "      <td>-117.06</td>\n",
       "      <td>34.87</td>\n",
       "      <td>14.0</td>\n",
       "      <td>3348.0</td>\n",
       "      <td>619.0</td>\n",
       "      <td>1756.0</td>\n",
       "      <td>557.0</td>\n",
       "      <td>3.5987</td>\n",
       "      <td>91400.0</td>\n",
       "      <td>INLAND</td>\n",
       "    </tr>\n",
       "    <tr>\n",
       "      <th>13976</th>\n",
       "      <td>-116.98</td>\n",
       "      <td>34.13</td>\n",
       "      <td>16.0</td>\n",
       "      <td>2098.0</td>\n",
       "      <td>449.0</td>\n",
       "      <td>342.0</td>\n",
       "      <td>143.0</td>\n",
       "      <td>4.0333</td>\n",
       "      <td>133900.0</td>\n",
       "      <td>INLAND</td>\n",
       "    </tr>\n",
       "    <tr>\n",
       "      <th>9279</th>\n",
       "      <td>-122.60</td>\n",
       "      <td>38.11</td>\n",
       "      <td>23.0</td>\n",
       "      <td>8642.0</td>\n",
       "      <td>1294.0</td>\n",
       "      <td>3594.0</td>\n",
       "      <td>1253.0</td>\n",
       "      <td>5.3962</td>\n",
       "      <td>301500.0</td>\n",
       "      <td>&lt;1H OCEAN</td>\n",
       "    </tr>\n",
       "  </tbody>\n",
       "</table>\n",
       "</div>"
      ],
      "text/plain": [
       "       longitude  latitude  housing_median_age  total_rooms  total_bedrooms  \\\n",
       "1852     -124.23     41.75                11.0       3159.0           616.0   \n",
       "3481     -118.52     34.30                17.0       4542.0           621.0   \n",
       "17919    -121.99     37.35                18.0       1712.0           509.0   \n",
       "11829    -120.87     39.18                25.0       2691.0           598.0   \n",
       "4128     -118.20     34.14                51.0       1941.0           378.0   \n",
       "19931    -119.33     36.31                15.0       1472.0           228.0   \n",
       "4831     -118.31     34.04                37.0       2338.0           686.0   \n",
       "13986    -117.06     34.87                14.0       3348.0           619.0   \n",
       "13976    -116.98     34.13                16.0       2098.0           449.0   \n",
       "9279     -122.60     38.11                23.0       8642.0          1294.0   \n",
       "\n",
       "       population  households  median_income  median_house_value  \\\n",
       "1852       1343.0       479.0         2.4805             73200.0   \n",
       "3481       2144.0       597.0         8.8467            450700.0   \n",
       "17919       972.0       467.0         4.3971            238900.0   \n",
       "11829       964.0       373.0         3.9196            142700.0   \n",
       "4128       1012.0       371.0         3.9375            217000.0   \n",
       "19931       892.0       257.0         5.3909            113000.0   \n",
       "4831       2376.0       630.0         1.7670            170300.0   \n",
       "13986      1756.0       557.0         3.5987             91400.0   \n",
       "13976       342.0       143.0         4.0333            133900.0   \n",
       "9279       3594.0      1253.0         5.3962            301500.0   \n",
       "\n",
       "      ocean_proximity  \n",
       "1852       NEAR OCEAN  \n",
       "3481        <1H OCEAN  \n",
       "17919       <1H OCEAN  \n",
       "11829          INLAND  \n",
       "4128        <1H OCEAN  \n",
       "19931          INLAND  \n",
       "4831        <1H OCEAN  \n",
       "13986          INLAND  \n",
       "13976          INLAND  \n",
       "9279        <1H OCEAN  "
      ]
     },
     "execution_count": 3,
     "metadata": {},
     "output_type": "execute_result"
    }
   ],
   "source": [
    "housing_data=pd.read_csv('housing.csv')\n",
    "housing_data.dropna(axis=0,inplace=True)\n",
    "\n",
    "housing_data.sample(10)"
   ]
  },
  {
   "cell_type": "code",
   "execution_count": 4,
   "metadata": {},
   "outputs": [
    {
     "data": {
      "text/html": [
       "<div>\n",
       "<style scoped>\n",
       "    .dataframe tbody tr th:only-of-type {\n",
       "        vertical-align: middle;\n",
       "    }\n",
       "\n",
       "    .dataframe tbody tr th {\n",
       "        vertical-align: top;\n",
       "    }\n",
       "\n",
       "    .dataframe thead th {\n",
       "        text-align: right;\n",
       "    }\n",
       "</style>\n",
       "<table border=\"1\" class=\"dataframe\">\n",
       "  <thead>\n",
       "    <tr style=\"text-align: right;\">\n",
       "      <th></th>\n",
       "      <th>ocean_proximity</th>\n",
       "      <th>households</th>\n",
       "    </tr>\n",
       "  </thead>\n",
       "  <tbody>\n",
       "    <tr>\n",
       "      <th>5134</th>\n",
       "      <td>&lt;1H OCEAN</td>\n",
       "      <td>295.0</td>\n",
       "    </tr>\n",
       "    <tr>\n",
       "      <th>13638</th>\n",
       "      <td>INLAND</td>\n",
       "      <td>244.0</td>\n",
       "    </tr>\n",
       "    <tr>\n",
       "      <th>12963</th>\n",
       "      <td>INLAND</td>\n",
       "      <td>782.0</td>\n",
       "    </tr>\n",
       "    <tr>\n",
       "      <th>9271</th>\n",
       "      <td>&lt;1H OCEAN</td>\n",
       "      <td>346.0</td>\n",
       "    </tr>\n",
       "    <tr>\n",
       "      <th>10097</th>\n",
       "      <td>&lt;1H OCEAN</td>\n",
       "      <td>244.0</td>\n",
       "    </tr>\n",
       "  </tbody>\n",
       "</table>\n",
       "</div>"
      ],
      "text/plain": [
       "      ocean_proximity  households\n",
       "5134        <1H OCEAN       295.0\n",
       "13638          INLAND       244.0\n",
       "12963          INLAND       782.0\n",
       "9271        <1H OCEAN       346.0\n",
       "10097       <1H OCEAN       244.0"
      ]
     },
     "execution_count": 4,
     "metadata": {},
     "output_type": "execute_result"
    }
   ],
   "source": [
    "households_data=housing_data[['ocean_proximity','households']]\n",
    "households_data.sample(5)"
   ]
  },
  {
   "cell_type": "code",
   "execution_count": 5,
   "metadata": {},
   "outputs": [
    {
     "data": {
      "text/html": [
       "<div>\n",
       "<style scoped>\n",
       "    .dataframe tbody tr th:only-of-type {\n",
       "        vertical-align: middle;\n",
       "    }\n",
       "\n",
       "    .dataframe tbody tr th {\n",
       "        vertical-align: top;\n",
       "    }\n",
       "\n",
       "    .dataframe thead th {\n",
       "        text-align: right;\n",
       "    }\n",
       "</style>\n",
       "<table border=\"1\" class=\"dataframe\">\n",
       "  <thead>\n",
       "    <tr style=\"text-align: right;\">\n",
       "      <th></th>\n",
       "      <th>ocean_proximity</th>\n",
       "      <th>households</th>\n",
       "    </tr>\n",
       "  </thead>\n",
       "  <tbody>\n",
       "    <tr>\n",
       "      <th>0</th>\n",
       "      <td>&lt;1H OCEAN</td>\n",
       "      <td>4674364.0</td>\n",
       "    </tr>\n",
       "    <tr>\n",
       "      <th>1</th>\n",
       "      <td>INLAND</td>\n",
       "      <td>3105133.0</td>\n",
       "    </tr>\n",
       "    <tr>\n",
       "      <th>2</th>\n",
       "      <td>ISLAND</td>\n",
       "      <td>1383.0</td>\n",
       "    </tr>\n",
       "    <tr>\n",
       "      <th>3</th>\n",
       "      <td>NEAR BAY</td>\n",
       "      <td>1106026.0</td>\n",
       "    </tr>\n",
       "    <tr>\n",
       "      <th>4</th>\n",
       "      <td>NEAR OCEAN</td>\n",
       "      <td>1318018.0</td>\n",
       "    </tr>\n",
       "  </tbody>\n",
       "</table>\n",
       "</div>"
      ],
      "text/plain": [
       "  ocean_proximity  households\n",
       "0       <1H OCEAN   4674364.0\n",
       "1          INLAND   3105133.0\n",
       "2          ISLAND      1383.0\n",
       "3        NEAR BAY   1106026.0\n",
       "4      NEAR OCEAN   1318018.0"
      ]
     },
     "execution_count": 5,
     "metadata": {},
     "output_type": "execute_result"
    }
   ],
   "source": [
    "grouped_data=households_data.groupby('ocean_proximity',as_index=False).sum()\n",
    "grouped_data.head()"
   ]
  },
  {
   "cell_type": "code",
   "execution_count": 6,
   "metadata": {},
   "outputs": [
    {
     "data": {
      "text/plain": [
       "Index(['ocean_proximity', 'households'], dtype='object')"
      ]
     },
     "execution_count": 6,
     "metadata": {},
     "output_type": "execute_result"
    }
   ],
   "source": [
    "grouped_data.columns"
   ]
  },
  {
   "cell_type": "code",
   "execution_count": 7,
   "metadata": {},
   "outputs": [
    {
     "data": {
      "image/png": "[encoded data removed]",
      "text/plain": [
       "<Figure size 432x288 with 1 Axes>"
      ]
     },
     "metadata": {},
     "output_type": "display_data"
    }
   ],
   "source": [
    "plt.pie(grouped_data['households'],\n",
    "       labels=grouped_data['ocean_proximity'],\n",
    "       autopct='%.1f')\n",
    "plt.title('Households by location')\n",
    "plt.show()"
   ]
  },
  {
   "cell_type": "code",
   "execution_count": 8,
   "metadata": {},
   "outputs": [],
   "source": [
    "COLORS=['lightblue','limegreen','orange','gold','peachpuff']"
   ]
  },
  {
   "cell_type": "code",
   "execution_count": 9,
   "metadata": {},
   "outputs": [
    {
     "data": {
      "image/png": "[encoded data removed]",
      "text/plain": [
       "<Figure size 432x288 with 1 Axes>"
      ]
     },
     "metadata": {},
     "output_type": "display_data"
    }
   ],
   "source": [
    "plt.pie(grouped_data['households'],\n",
    "       labels=grouped_data['ocean_proximity'],\n",
    "       autopct='%.1f',\n",
    "        \n",
    "       colors=COLORS)\n",
    "\n",
    "plt.title('Households by location')\n",
    "plt.axis('equal')\n",
    "plt.show()"
   ]
  },
  {
   "cell_type": "code",
   "execution_count": 10,
   "metadata": {},
   "outputs": [
    {
     "data": {
      "image/png": "[encoded data removed]",
      "text/plain": [
       "<Figure size 576x576 with 1 Axes>"
      ]
     },
     "metadata": {},
     "output_type": "display_data"
    }
   ],
   "source": [
    "fig,ax=plt.subplots(figsize=(8,8))\n",
    "\n",
    "plt.pie(grouped_data['households'],\n",
    "       labels=grouped_data['ocean_proximity'],\n",
    "       autopct='%.1f',\n",
    "       colors=COLORS)\n",
    "\n",
    "plt.title('Households by location',loc='left')\n",
    "plt.axis('equal')\n",
    "plt.show()"
   ]
  },
  {
   "cell_type": "code",
   "execution_count": 13,
   "metadata": {},
   "outputs": [],
   "source": [
    "explode=(0,0,0,0,0.2)"
   ]
  },
  {
   "cell_type": "code",
   "execution_count": 14,
   "metadata": {},
   "outputs": [
    {
     "data": {
      "image/png": "[encoded data removed]",
      "text/plain": [
       "<Figure size 576x576 with 1 Axes>"
      ]
     },
     "metadata": {},
     "output_type": "display_data"
    }
   ],
   "source": [
    "fig,ax=plt.subplots(figsize=(8,8))\n",
    "\n",
    "plt.pie(grouped_data['households'],\n",
    "       labels=grouped_data['ocean_proximity'],\n",
    "       autopct='%.1f',\n",
    "       colors=COLORS,\n",
    "        \n",
    "       explode=explode)\n",
    "\n",
    "plt.title('Households by location',loc='left')\n",
    "plt.axis('equal')\n",
    "plt.show()"
   ]
  }
 ],
 "metadata": {
  "kernelspec": {
   "display_name": "Python 3",
   "language": "python",
   "name": "python3"
  },
  "language_info": {
   "codemirror_mode": {
    "name": "ipython",
    "version": 3
   },
   "file_extension": ".py",
   "mimetype": "text/x-python",
   "name": "python",
   "nbconvert_exporter": "python",
   "pygments_lexer": "ipython3",
   "version": "3.7.6"
  },
  "latex_envs": {
   "LaTeX_envs_menu_present": true,
   "autoclose": false,
   "autocomplete": true,
   "bibliofile": "biblio.bib",
   "cite_by": "apalike",
   "current_citInitial": 1,
   "eqLabelWithNumbers": true,
   "eqNumInitial": 1,
   "hotkeys": {
    "equation": "Ctrl-E",
    "itemize": "Ctrl-I"
   },
   "labels_anchors": false,
   "latex_user_defs": false,
   "report_style_numbering": false,
   "user_envs_cfg": false
  },
  "toc": {
   "base_numbering": 1,
   "nav_menu": {},
   "number_sections": true,
   "sideBar": true,
   "skip_h1_title": false,
   "title_cell": "Table of Contents",
   "title_sidebar": "Contents",
   "toc_cell": false,
   "toc_position": {},
   "toc_section_display": true,
   "toc_window_display": false
  }
 },
 "nbformat": 4,
 "nbformat_minor": 2
}
